{
 "cells": [
  {
   "cell_type": "code",
   "execution_count": 1,
   "metadata": {},
   "outputs": [],
   "source": [
    "import pandas as pd\n",
    "import numpy as np\n",
    "from tqdm import tqdm\n",
    "import warnings\n",
    "warnings.filterwarnings('ignore')"
   ]
  },
  {
   "cell_type": "code",
   "execution_count": 2,
   "metadata": {},
   "outputs": [],
   "source": [
    "path ='data1'"
   ]
  },
  {
   "cell_type": "code",
   "execution_count": 3,
   "metadata": {},
   "outputs": [],
   "source": [
    "fund_returnA =  pd.read_csv(path+'/test_fund_return.csv')\n",
    "fund_returnB =  pd.read_csv(path+'/train_fund_return.csv')\n",
    "fund_return = pd.merge(fund_returnB,fund_returnA,how='left')"
   ]
  },
  {
   "cell_type": "code",
   "execution_count": 4,
   "metadata": {},
   "outputs": [],
   "source": [
    "benchmark_returnA =  pd.read_csv(path+'/test_fund_benchmark_return.csv')\n",
    "benchmark_returnB =  pd.read_csv(path+'/train_fund_benchmark_return.csv')\n",
    "benchmark_return = pd.merge(benchmark_returnB,benchmark_returnA,how='left')"
   ]
  },
  {
   "cell_type": "code",
   "execution_count": 5,
   "metadata": {},
   "outputs": [],
   "source": [
    "test_correlation = pd.read_csv(path+'/test_correlation.csv')\n",
    "train_correlation = pd.read_csv(path+'/train_correlation.csv')\n",
    "test = pd.merge(train_correlation,test_correlation,how='left')"
   ]
  },
  {
   "cell_type": "code",
   "execution_count": 6,
   "metadata": {},
   "outputs": [],
   "source": [
    "ID = test['Unnamed: 0']\n",
    "test.drop(['Unnamed: 0'],axis=1,inplace=True)"
   ]
  },
  {
   "cell_type": "code",
   "execution_count": 7,
   "metadata": {},
   "outputs": [],
   "source": [
    "index = pd.concat([ID.map(lambda x:x.split('-')[0]),ID.map(lambda x:x.split('-')[1])],axis=1)\n",
    "index.columns = ['FundA','FundB']"
   ]
  },
  {
   "cell_type": "code",
   "execution_count": 16,
   "metadata": {},
   "outputs": [],
   "source": [
    "def lgbPRD(x_train,target,val,val2,x_test,params,num_boost_round=10000):\n",
    "    import lightgbm as lgb\n",
    "    #xgb矩阵转换\n",
    "    xg_train = lgb.Dataset(np.array(x_train),target)\n",
    "\n",
    "\n",
    "    bst = lgb.train(params, xg_train,num_boost_round)\n",
    "    \n",
    "    \n",
    "    return bst.predict( x_test ),bst.predict( val ),bst.predict( val2 )"
   ]
  },
  {
   "cell_type": "code",
   "execution_count": 8,
   "metadata": {},
   "outputs": [],
   "source": [
    "def day_tran(data,star_time,end_time,index=index):\n",
    "    fund_r = pd.concat((data['Unnamed: 0'],data[data.columns[star_time:end_time]]),axis=1)\n",
    "    fund_r.rename(columns={'Unnamed: 0':\"FundA\"},inplace=True)\n",
    "    FundA  = pd.merge(index,fund_r,how = 'left')      \n",
    "    FundA = FundA[FundA.columns[2:]]\n",
    "    FundA.columns=range(0,FundA.shape[1])\n",
    "    \n",
    "    fund_r.rename(columns={\"FundA\":\"FundB\"},inplace=True)\n",
    "    FundB = pd.merge(index,fund_r,on = 'FundB',how = 'left',suffixes=('_x', '_y'))\n",
    "    FundB = FundB[FundB.columns[2:]]\n",
    "    FundB.columns=range(0,FundB.shape[1])\n",
    "    return FundA,FundB"
   ]
  },
  {
   "cell_type": "code",
   "execution_count": 17,
   "metadata": {},
   "outputs": [],
   "source": [
    "#定义结果评价函数，可通过倒数第2天的correlation数据，预测倒数第1天的correlation，以验证模型效果\n",
    "from sklearn.metrics import mean_absolute_error  \n",
    "def modelFeval(y_pred,labels):\n",
    "    sc1 = mean_absolute_error(labels,y_pred)\n",
    "    diff = 0\n",
    "    count = 0\n",
    "    for i in range(len(y_pred)):\n",
    "        diff += abs((y_pred[i]-labels[i]) / (1.5-labels[i]))\n",
    "        count +=1\n",
    "    sc2 = diff/count\n",
    "    sc = ((2/(2+sc1+sc2))**2)\n",
    "    return 'myFeval',float(sc)"
   ]
  },
  {
   "cell_type": "code",
   "execution_count": 9,
   "metadata": {},
   "outputs": [],
   "source": [
    "day = 300"
   ]
  },
  {
   "cell_type": "code",
   "execution_count": 10,
   "metadata": {},
   "outputs": [
    {
     "name": "stderr",
     "output_type": "stream",
     "text": [
      "100%|████████████████████████████████████████████████████████████████████████████████████| 5/5 [00:52<00:00, 10.51s/it]\n"
     ]
    }
   ],
   "source": [
    "for i in tqdm(range(5)):    \n",
    "    FundA,FundB = day_tran(fund_return,-day-63,-63)\n",
    "    testA = test.mean(axis=1)\n",
    "    FundAA = FundA.mean(axis=1)\n",
    "    FundBB =FundB.mean(axis=1)\n",
    "    x_train = pd.concat([abs(FundA-FundB),testA,FundAA,FundBB,abs(FundAA-FundBB)],axis=1)\n",
    "    \n",
    "    if i ==0 :\n",
    "        xtrain = x_train\n",
    "        ytrain = test[test.columns[-3]]\n",
    "    else:\n",
    "        xtrain = pd.concat([xtrain,x_train])\n",
    "        ytrain = pd.concat([ytrain,test[test.columns[-3-i]]])"
   ]
  },
  {
   "cell_type": "code",
   "execution_count": 11,
   "metadata": {},
   "outputs": [],
   "source": [
    "FundA,FundB = day_tran(fund_return,-day,None)\n",
    "testA = test.mean(axis=1)\n",
    "FundAA = FundA.mean(axis=1)\n",
    "FundBB =FundB.mean(axis=1)\n",
    "x_test = pd.concat([abs(FundA-FundB),testA,FundAA,FundBB,abs(FundAA-FundBB)],axis=1)\n",
    "q = x_test.mean()\n",
    "x_test = x_test.fillna(0).replace(0,q)\n",
    "\n",
    "FundA,FundB = day_tran(fund_return,-day-61,-61)\n",
    "testA = test.mean(axis=1)\n",
    "FundAA = FundA.mean(axis=1)\n",
    "FundBB =FundB.mean(axis=1)\n",
    "xval = pd.concat([abs(FundA-FundB),testA,FundAA,FundBB,abs(FundAA-FundBB)],axis=1)\n",
    "q = xval.mean()\n",
    "xval1 = xval.fillna(0).replace(0,q)\n",
    "\n",
    "FundA,FundB = day_tran(fund_return,-day-62,-62)\n",
    "testA = test.mean(axis=1)\n",
    "FundAA = FundA.mean(axis=1)\n",
    "FundBB =FundB.mean(axis=1)\n",
    "xval = pd.concat([abs(FundA-FundB),testA,FundAA,FundBB,abs(FundAA-FundBB)],axis=1)\n",
    "q = xval.mean()\n",
    "xval2 = xval.fillna(0).replace(0,q)"
   ]
  },
  {
   "cell_type": "code",
   "execution_count": 12,
   "metadata": {},
   "outputs": [
    {
     "data": {
      "text/plain": [
       "((1305015, 304), (1305015,), (261003, 304), (261003, 304), (261003, 304))"
      ]
     },
     "execution_count": 12,
     "metadata": {},
     "output_type": "execute_result"
    }
   ],
   "source": [
    "xtrain.shape,ytrain.shape,x_test.shape,xval1.shape,xval2.shape"
   ]
  },
  {
   "cell_type": "code",
   "execution_count": 13,
   "metadata": {},
   "outputs": [],
   "source": [
    "lgb_params = {\n",
    "    'device':'gpu',\n",
    "    'application':'regression_l1',\n",
    "    'seed': 0,\n",
    "    'learning_rate':0.04,\n",
    "    'max_depth':1,\n",
    "    'feature_fraction':0.8,\n",
    "    'lambda_l1':1,\n",
    "}"
   ]
  },
  {
   "cell_type": "code",
   "execution_count": 18,
   "metadata": {},
   "outputs": [],
   "source": [
    "lgypred,lgyval1,lgyval2 = lgbPRD(xtrain,ytrain,xval1,xval2,x_test,lgb_params,900)"
   ]
  },
  {
   "cell_type": "code",
   "execution_count": null,
   "metadata": {},
   "outputs": [],
   "source": [
    "modelFeval(lgyval1,test[test.columns[-1]])"
   ]
  },
  {
   "cell_type": "code",
   "execution_count": 19,
   "metadata": {},
   "outputs": [],
   "source": [
    "df = pd.DataFrame({'ID':ID,'value':lgypred})"
   ]
  },
  {
   "cell_type": "code",
   "execution_count": 20,
   "metadata": {},
   "outputs": [],
   "source": [
    "df.to_csv('base.csv',index=None)"
   ]
  },
  {
   "cell_type": "code",
   "execution_count": null,
   "metadata": {},
   "outputs": [],
   "source": [
    "df"
   ]
  },
  {
   "cell_type": "code",
   "execution_count": null,
   "metadata": {},
   "outputs": [],
   "source": []
  }
 ],
 "metadata": {
  "kernelspec": {
   "display_name": "py",
   "language": "python",
   "name": "py"
  },
  "language_info": {
   "codemirror_mode": {
    "name": "ipython",
    "version": 3
   },
   "file_extension": ".py",
   "mimetype": "text/x-python",
   "name": "python",
   "nbconvert_exporter": "python",
   "pygments_lexer": "ipython3",
   "version": "3.6.6"
  }
 },
 "nbformat": 4,
 "nbformat_minor": 2
}
